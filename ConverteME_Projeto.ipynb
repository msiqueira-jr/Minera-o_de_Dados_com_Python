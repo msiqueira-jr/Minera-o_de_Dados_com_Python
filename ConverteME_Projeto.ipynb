{
 "cells": [
  {
   "cell_type": "markdown",
   "metadata": {},
   "source": [
    "![title](ME_ProjetoFinal.png)"
   ]
  },
  {
   "cell_type": "code",
   "execution_count": 1,
   "metadata": {},
   "outputs": [
    {
     "name": "stdout",
     "output_type": "stream",
     "text": [
      "$10241.01\n"
     ]
    }
   ]
